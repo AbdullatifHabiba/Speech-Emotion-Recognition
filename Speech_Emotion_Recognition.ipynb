{
  "cells": [
    {
      "cell_type": "markdown",
      "metadata": {
        "id": "view-in-github",
        "colab_type": "text"
      },
      "source": [
        "<a href=\"https://colab.research.google.com/github/AbdullatifHabiba/Speech-Emotion-Recognition/blob/main/Speech_Emotion_Recognition.ipynb\" target=\"_parent\"><img src=\"https://colab.research.google.com/assets/colab-badge.svg\" alt=\"Open In Colab\"/></a>"
      ]
    },
    {
      "cell_type": "code",
      "execution_count": null,
      "metadata": {
        "id": "199uZOTxkI0X"
      },
      "outputs": [],
      "source": [
        "from zipfile import ZipFile\n",
        "import numpy as np\n",
        "import pandas as pd\n",
        "import random\n",
        "import numpy as np\n",
        "import scipy as sc\n",
        "import seaborn as sn\n",
        "from sklearn.model_selection import train_test_split\n",
        "from sklearn import cluster\n",
        "from sklearn.metrics import confusion_matrix\n",
        "from sklearn.metrics import accuracy_score\n",
        "from sklearn.metrics import classification_report\n",
        "import tensorflow as tf\n",
        "from tensorflow.keras import datasets, layers, models\n",
        "import urllib.request\n",
        "import librosa\n",
        "import librosa.display\n",
        "import matplotlib.pyplot as plt\n",
        "import os\n",
        "from sklearn.preprocessing import LabelEncoder\n",
        "from tensorflow.keras.utils import to_categorical\n",
        "import librosa\n",
        "from tensorflow.keras.layers import Conv2D, Input\n",
        "from sklearn import preprocessing"
      ]
    },
    {
      "cell_type": "code",
      "source": [
        "!pip install ltlf2dfa\n"
      ],
      "metadata": {
        "colab": {
          "base_uri": "https://localhost:8080/"
        },
        "id": "z1KoaxrchMk5",
        "outputId": "6ac35b42-faaa-4048-e1f1-8964e04d1586"
      },
      "execution_count": null,
      "outputs": [
        {
          "output_type": "stream",
          "name": "stdout",
          "text": [
            "Looking in indexes: https://pypi.org/simple, https://us-python.pkg.dev/colab-wheels/public/simple/\n",
            "Collecting ltlf2dfa\n",
            "  Downloading ltlf2dfa-1.0.2-py2.py3-none-any.whl (32 kB)\n",
            "Collecting lark-parser<1,>=0.9.0 (from ltlf2dfa)\n",
            "  Downloading lark_parser-0.12.0-py2.py3-none-any.whl (103 kB)\n",
            "\u001b[2K     \u001b[90m━━━━━━━━━━━━━━━━━━━━━━━━━━━━━━━━━━━━━━━\u001b[0m \u001b[32m103.5/103.5 kB\u001b[0m \u001b[31m6.7 MB/s\u001b[0m eta \u001b[36m0:00:00\u001b[0m\n",
            "\u001b[?25hRequirement already satisfied: sympy in /usr/local/lib/python3.10/dist-packages (from ltlf2dfa) (1.11.1)\n",
            "Requirement already satisfied: mpmath>=0.19 in /usr/local/lib/python3.10/dist-packages (from sympy->ltlf2dfa) (1.3.0)\n",
            "Installing collected packages: lark-parser, ltlf2dfa\n",
            "Successfully installed lark-parser-0.12.0 ltlf2dfa-1.0.2\n"
          ]
        }
      ]
    },
    {
      "cell_type": "code",
      "source": [
        "from ltlf2dfa.parser.ltlf import LTLfParser\n",
        "\n",
        "parser = LTLfParser()\n",
        "formula_str = \"G(a -> X b)\"\n",
        "formula = parser(formula_str)       # returns an LTLfFormula\n",
        "\n",
        "print(formula)"
      ],
      "metadata": {
        "colab": {
          "base_uri": "https://localhost:8080/"
        },
        "id": "m1VFDCjOhR71",
        "outputId": "3fe59d9f-e7ef-4f79-e1a6-69fbff512abb"
      },
      "execution_count": null,
      "outputs": [
        {
          "output_type": "stream",
          "name": "stdout",
          "text": [
            "G((a -> X(b)))\n"
          ]
        }
      ]
    },
    {
      "cell_type": "code",
      "execution_count": null,
      "metadata": {
        "colab": {
          "base_uri": "https://localhost:8080/"
        },
        "id": "6nAjmx3AkMmj",
        "outputId": "ac2c2763-5154-4849-ea0a-695e07066522"
      },
      "outputs": [
        {
          "output_type": "stream",
          "name": "stdout",
          "text": [
            "Mounted at /content/drive\n"
          ]
        }
      ],
      "source": [
        "from google.colab import drive\n",
        "drive.mount('/content/drive')"
      ]
    },
    {
      "cell_type": "code",
      "execution_count": null,
      "metadata": {
        "id": "HKFena9l79hi"
      },
      "outputs": [],
      "source": [
        "with ZipFile(\"/content/drive/MyDrive/Crema.zip\", \"r\") as folders:\n",
        "  folders.extractall(\"Crema\")"
      ]
    },
    {
      "cell_type": "markdown",
      "metadata": {
        "id": "CjmYr9cS0KFF"
      },
      "source": [
        "# Download the Dataset"
      ]
    },
    {
      "cell_type": "code",
      "execution_count": null,
      "metadata": {
        "id": "TTW0crFrzwNJ"
      },
      "outputs": [],
      "source": [
        "Data = []\n",
        "data_path = 'Crema/Crema'\n",
        "data_label = []\n",
        "\n",
        "# Loop over all audio files in the dataset\n",
        "for file_name in os.listdir(data_path):\n",
        "    if file_name.endswith('.wav'):\n",
        "        file_path = os.path.join(data_path, file_name)\n",
        "\n",
        "        # Extract the emotion label from the filename\n",
        "        emotion_label = file_name.split('_')[2]\n",
        "        data_label.append(emotion_label)\n",
        "        # Load audio waveform\n",
        "        audio, sr = librosa.load(file_path, sr=22050)\n",
        "        Data.append(audio)\n",
        "        #Plot the waveform\n",
        "        # plt.figure(figsize=(12, 4))\n",
        "        # plt.plot(audio)\n",
        "        # plt.title('Waveform')\n",
        "        # plt.xlabel('Time (seconds)')\n",
        "        # plt.ylabel('Amplitude')\n",
        "        # plt.show()\n"
      ]
    },
    {
      "cell_type": "markdown",
      "metadata": {
        "id": "riX9FLH-kRDz"
      },
      "source": [
        "#Feature Space"
      ]
    },
    {
      "cell_type": "code",
      "source": [
        "# Get the maximum length of the rows\n",
        "max_len = max([len(row) for row in Data])\n",
        "min_len = min(([len(row) for row in Data]))\n",
        "print(max_len, min_len)\n",
        "\n",
        "arr_fixed = [[1 for j in range(min_len)] for i in range(len(Data))]\n",
        "#arr_fixed=np.array(arr_fixed)\n",
        "for i in range(len(Data)):\n",
        "    row = Data[i][:min_len]\n",
        "    arr_fixed[i] = row"
      ],
      "metadata": {
        "colab": {
          "base_uri": "https://localhost:8080/"
        },
        "id": "32aVlH_QXtiD",
        "outputId": "19325e50-a4a0-48a2-fecd-73e2f4e2126f"
      },
      "execution_count": null,
      "outputs": [
        {
          "output_type": "stream",
          "name": "stdout",
          "text": [
            "110361 27959\n"
          ]
        }
      ]
    },
    {
      "cell_type": "code",
      "source": [
        "arr_fixed = np.array(arr_fixed)\n",
        "print(np.shape(arr_fixed))"
      ],
      "metadata": {
        "colab": {
          "base_uri": "https://localhost:8080/"
        },
        "id": "f-aXnPRUiH7J",
        "outputId": "ce4502a1-cc88-441d-ac85-417c172df579"
      },
      "execution_count": null,
      "outputs": [
        {
          "output_type": "stream",
          "name": "stdout",
          "text": [
            "(14884, 27959)\n"
          ]
        }
      ]
    },
    {
      "cell_type": "code",
      "source": [
        "print(np.shape(arr_fixed))"
      ],
      "metadata": {
        "colab": {
          "base_uri": "https://localhost:8080/"
        },
        "id": "nI-b1wyedzb5",
        "outputId": "9cd8770f-27d3-4b3d-ff52-80c145be5cb1"
      },
      "execution_count": null,
      "outputs": [
        {
          "output_type": "stream",
          "name": "stdout",
          "text": [
            "(14884, 27959)\n"
          ]
        }
      ]
    },
    {
      "cell_type": "code",
      "source": [
        "zcr = librosa.feature.zero_crossing_rate(arr_fixed[5])\n",
        "frame_length = len(arr_fixed[5])\n",
        "print(len(arr_fixed[5]))\n",
        "energies = librosa.feature.rms(y=arr_fixed[5], frame_length=frame_length)\n",
        "print(np.shape(energies[0]),energies[0])\n",
        "result =zcr[0]+energies[0]"
      ],
      "metadata": {
        "colab": {
          "base_uri": "https://localhost:8080/"
        },
        "id": "mSghEjPHXxuH",
        "outputId": "b65d922b-f3a1-426c-805f-2f6a9ba17374"
      },
      "execution_count": null,
      "outputs": [
        {
          "output_type": "stream",
          "name": "stdout",
          "text": [
            "27959\n",
            "(55,) [0.1759675  0.17607659 0.17630567 0.17642209 0.17647474 0.17650895\n",
            " 0.17652175 0.17657965 0.17728147 0.17803589 0.1842022  0.20414458\n",
            " 0.21870649 0.23093447 0.23741007 0.24190865 0.24470696 0.24558015\n",
            " 0.24768582 0.25440523 0.26469818 0.27120647 0.27334055 0.2744674\n",
            " 0.27558994 0.2789609  0.2807285  0.28119865 0.2813855  0.281385\n",
            " 0.28138447 0.28138348 0.2813829  0.28138185 0.28137997 0.28137702\n",
            " 0.2813725  0.28137082 0.28136843 0.2813667  0.2810522  0.27503294\n",
            " 0.27018166 0.26653928 0.26522154 0.26474598 0.26446876 0.25942644\n",
            " 0.24639408 0.23585516 0.22640225 0.22308494 0.22104461 0.22047566\n",
            " 0.21984121]\n"
          ]
        }
      ]
    },
    {
      "cell_type": "code",
      "source": [
        "print(len(arr_fixed))\n",
        "ZeroCrossingRateArr = []\n",
        "energiesArr = []\n",
        "Result = []\n",
        "for i in range(len(arr_fixed)):\n",
        "  #print(i)\n",
        "  zcr = librosa.feature.zero_crossing_rate(arr_fixed[i])\n",
        "  frame_length = len(arr_fixed[i])\n",
        "  ZeroCrossingRateArr.append(zcr[0])\n",
        "  energy = librosa.feature.rms(y = arr_fixed[i], frame_length = frame_length)\n",
        "  energiesArr.append(energy[0]);\n",
        "  Result.append(zcr[0] + energy[0])"
      ],
      "metadata": {
        "colab": {
          "base_uri": "https://localhost:8080/",
          "height": 397
        },
        "id": "7cKjKWGlX1dG",
        "outputId": "12c25b55-a90a-42c0-c9ca-cbcfb733a9e5"
      },
      "execution_count": null,
      "outputs": [
        {
          "output_type": "stream",
          "name": "stdout",
          "text": [
            "14884\n"
          ]
        },
        {
          "output_type": "error",
          "ename": "KeyboardInterrupt",
          "evalue": "ignored",
          "traceback": [
            "\u001b[0;31m---------------------------------------------------------------------------\u001b[0m",
            "\u001b[0;31mKeyboardInterrupt\u001b[0m                         Traceback (most recent call last)",
            "\u001b[0;32m<ipython-input-9-54b5f228e23e>\u001b[0m in \u001b[0;36m<cell line: 5>\u001b[0;34m()\u001b[0m\n\u001b[1;32m      8\u001b[0m   \u001b[0mframe_length\u001b[0m \u001b[0;34m=\u001b[0m \u001b[0mlen\u001b[0m\u001b[0;34m(\u001b[0m\u001b[0marr_fixed\u001b[0m\u001b[0;34m[\u001b[0m\u001b[0mi\u001b[0m\u001b[0;34m]\u001b[0m\u001b[0;34m)\u001b[0m\u001b[0;34m\u001b[0m\u001b[0;34m\u001b[0m\u001b[0m\n\u001b[1;32m      9\u001b[0m   \u001b[0mZeroCrossingRateArr\u001b[0m\u001b[0;34m.\u001b[0m\u001b[0mappend\u001b[0m\u001b[0;34m(\u001b[0m\u001b[0mzcr\u001b[0m\u001b[0;34m[\u001b[0m\u001b[0;36m0\u001b[0m\u001b[0;34m]\u001b[0m\u001b[0;34m)\u001b[0m\u001b[0;34m\u001b[0m\u001b[0;34m\u001b[0m\u001b[0m\n\u001b[0;32m---> 10\u001b[0;31m   \u001b[0menergy\u001b[0m \u001b[0;34m=\u001b[0m \u001b[0mlibrosa\u001b[0m\u001b[0;34m.\u001b[0m\u001b[0mfeature\u001b[0m\u001b[0;34m.\u001b[0m\u001b[0mrms\u001b[0m\u001b[0;34m(\u001b[0m\u001b[0my\u001b[0m \u001b[0;34m=\u001b[0m \u001b[0marr_fixed\u001b[0m\u001b[0;34m[\u001b[0m\u001b[0mi\u001b[0m\u001b[0;34m]\u001b[0m\u001b[0;34m,\u001b[0m \u001b[0mframe_length\u001b[0m \u001b[0;34m=\u001b[0m \u001b[0mframe_length\u001b[0m\u001b[0;34m)\u001b[0m\u001b[0;34m\u001b[0m\u001b[0;34m\u001b[0m\u001b[0m\n\u001b[0m\u001b[1;32m     11\u001b[0m   \u001b[0menergiesArr\u001b[0m\u001b[0;34m.\u001b[0m\u001b[0mappend\u001b[0m\u001b[0;34m(\u001b[0m\u001b[0menergy\u001b[0m\u001b[0;34m[\u001b[0m\u001b[0;36m0\u001b[0m\u001b[0;34m]\u001b[0m\u001b[0;34m)\u001b[0m\u001b[0;34m;\u001b[0m\u001b[0;34m\u001b[0m\u001b[0;34m\u001b[0m\u001b[0m\n\u001b[1;32m     12\u001b[0m   \u001b[0mResult\u001b[0m\u001b[0;34m.\u001b[0m\u001b[0mappend\u001b[0m\u001b[0;34m(\u001b[0m\u001b[0mzcr\u001b[0m\u001b[0;34m[\u001b[0m\u001b[0;36m0\u001b[0m\u001b[0;34m]\u001b[0m \u001b[0;34m+\u001b[0m \u001b[0menergy\u001b[0m\u001b[0;34m[\u001b[0m\u001b[0;36m0\u001b[0m\u001b[0;34m]\u001b[0m\u001b[0;34m)\u001b[0m\u001b[0;34m\u001b[0m\u001b[0;34m\u001b[0m\u001b[0m\n",
            "\u001b[0;32m/usr/local/lib/python3.10/dist-packages/librosa/feature/spectral.py\u001b[0m in \u001b[0;36mrms\u001b[0;34m(y, S, frame_length, hop_length, center, pad_mode, dtype)\u001b[0m\n\u001b[1;32m    885\u001b[0m \u001b[0;34m\u001b[0m\u001b[0m\n\u001b[1;32m    886\u001b[0m         \u001b[0;31m# Calculate power\u001b[0m\u001b[0;34m\u001b[0m\u001b[0;34m\u001b[0m\u001b[0m\n\u001b[0;32m--> 887\u001b[0;31m         \u001b[0mpower\u001b[0m \u001b[0;34m=\u001b[0m \u001b[0mnp\u001b[0m\u001b[0;34m.\u001b[0m\u001b[0mmean\u001b[0m\u001b[0;34m(\u001b[0m\u001b[0mutil\u001b[0m\u001b[0;34m.\u001b[0m\u001b[0mabs2\u001b[0m\u001b[0;34m(\u001b[0m\u001b[0mx\u001b[0m\u001b[0;34m,\u001b[0m \u001b[0mdtype\u001b[0m\u001b[0;34m=\u001b[0m\u001b[0mdtype\u001b[0m\u001b[0;34m)\u001b[0m\u001b[0;34m,\u001b[0m \u001b[0maxis\u001b[0m\u001b[0;34m=\u001b[0m\u001b[0;34m-\u001b[0m\u001b[0;36m2\u001b[0m\u001b[0;34m,\u001b[0m \u001b[0mkeepdims\u001b[0m\u001b[0;34m=\u001b[0m\u001b[0;32mTrue\u001b[0m\u001b[0;34m)\u001b[0m\u001b[0;34m\u001b[0m\u001b[0;34m\u001b[0m\u001b[0m\n\u001b[0m\u001b[1;32m    888\u001b[0m     \u001b[0;32melif\u001b[0m \u001b[0mS\u001b[0m \u001b[0;32mis\u001b[0m \u001b[0;32mnot\u001b[0m \u001b[0;32mNone\u001b[0m\u001b[0;34m:\u001b[0m\u001b[0;34m\u001b[0m\u001b[0;34m\u001b[0m\u001b[0m\n\u001b[1;32m    889\u001b[0m         \u001b[0;31m# Check the frame length\u001b[0m\u001b[0;34m\u001b[0m\u001b[0;34m\u001b[0m\u001b[0m\n",
            "\u001b[0;32m/usr/local/lib/python3.10/dist-packages/librosa/util/utils.py\u001b[0m in \u001b[0;36mabs2\u001b[0;34m(x, dtype)\u001b[0m\n\u001b[1;32m   2519\u001b[0m     \u001b[0;32melse\u001b[0m\u001b[0;34m:\u001b[0m\u001b[0;34m\u001b[0m\u001b[0;34m\u001b[0m\u001b[0m\n\u001b[1;32m   2520\u001b[0m         \u001b[0;31m# suppress type check, mypy doesn't know this is real\u001b[0m\u001b[0;34m\u001b[0m\u001b[0;34m\u001b[0m\u001b[0m\n\u001b[0;32m-> 2521\u001b[0;31m         \u001b[0;32mreturn\u001b[0m \u001b[0mnp\u001b[0m\u001b[0;34m.\u001b[0m\u001b[0mpower\u001b[0m\u001b[0;34m(\u001b[0m\u001b[0mx\u001b[0m\u001b[0;34m,\u001b[0m \u001b[0;36m2\u001b[0m\u001b[0;34m,\u001b[0m \u001b[0mdtype\u001b[0m\u001b[0;34m=\u001b[0m\u001b[0mdtype\u001b[0m\u001b[0;34m)\u001b[0m  \u001b[0;31m# type: ignore\u001b[0m\u001b[0;34m\u001b[0m\u001b[0;34m\u001b[0m\u001b[0m\n\u001b[0m\u001b[1;32m   2522\u001b[0m \u001b[0;34m\u001b[0m\u001b[0m\n\u001b[1;32m   2523\u001b[0m \u001b[0;34m\u001b[0m\u001b[0m\n",
            "\u001b[0;31mKeyboardInterrupt\u001b[0m: "
          ]
        }
      ]
    },
    {
      "cell_type": "code",
      "source": [
        "Result = np.array(Result)"
      ],
      "metadata": {
        "id": "m_L6tuEWgKt2"
      },
      "execution_count": null,
      "outputs": []
    },
    {
      "cell_type": "code",
      "execution_count": null,
      "metadata": {
        "colab": {
          "base_uri": "https://localhost:8080/"
        },
        "id": "y-sdFHMEXSdv",
        "outputId": "9531d92d-8a13-4610-d386-cc2e31203644"
      },
      "outputs": [
        {
          "output_type": "stream",
          "name": "stdout",
          "text": [
            "(7442, 55)\n"
          ]
        }
      ],
      "source": [
        "print(np.shape(Result))"
      ]
    },
    {
      "cell_type": "markdown",
      "metadata": {
        "id": "oKjt2lH79qCu"
      },
      "source": [
        "#Not enterested"
      ]
    },
    {
      "cell_type": "code",
      "execution_count": null,
      "metadata": {
        "id": "wh6a2hu8p-vz"
      },
      "outputs": [],
      "source": [
        "# here a way to make feature matrix\n",
        "# Calculate summary statistics of zero crossing rate and energy features\n",
        "zcr_means = []\n",
        "zcr_medians = []\n",
        "zcr_variances = []\n",
        "energy_means = []\n",
        "energy_medians = []\n",
        "energy_variances = []\n",
        "\n",
        "for i in range(len(ZeroCrossingRateArr)):\n",
        "    zcr_means.append(np.mean(ZeroCrossingRateArr[i]))\n",
        "    zcr_medians.append(np.median(ZeroCrossingRateArr[i]))\n",
        "    zcr_variances.append(np.var(ZeroCrossingRateArr[i]))\n",
        "\n",
        "    energy_means.append(np.mean(energiesArr[i]))\n",
        "    energy_medians.append(np.median(energiesArr[i]))\n",
        "    energy_variances.append(np.var(energiesArr[i]))\n",
        "\n",
        "# Create feature space from summary statistics\n",
        "feature_matrix = np.column_stack((zcr_means, zcr_medians, zcr_variances, energy_means, energy_medians, energy_variances))\n",
        "\"\"\"\n",
        "The code I provided for calculating the zero crossing\n",
        "rate works on the time domain of the audio signal.\n",
        "It calculates the rate of sign changes of the signal during\n",
        "the duration of a particular frame, which is a time-based feature.\n",
        "The librosa.feature.zero_crossing_rate()\n",
        "function returns a 2D numpy array where each column corresponds to one frame\n",
        "of the audio signal, and each row corresponds to one channel if the signal\n",
        "is not mono.\n",
        "\n",
        "If you want to calculate the zero crossing rate\n",
        "in the frequency domain instead, you can use the Short-Time Fourier Transform\n",
        "(STFT) to convert the audio signal from the time domain to the\n",
        "frequency domain. Then, you can calculate the zero crossing rate of\n",
        "each frequency bin in the magnitude spectrum.\n",
        "\"\"\""
      ]
    },
    {
      "cell_type": "code",
      "execution_count": null,
      "metadata": {
        "id": "o4I3iyDHqAJB"
      },
      "outputs": [],
      "source": [
        "mel_arr = []\n",
        "for audio in Data:\n",
        "    mel = librosa.feature.melspectrogram(y=audio, sr=22050)\n",
        "    mel_arr.append(mel)\n",
        "\n",
        "mel_mean = np.mean(mel_arr, axis=1)\n",
        "mel_median = np.median(mel_arr, axis=1)\n",
        "mel_var = np.var(mel_arr, axis=1)\n",
        "\n",
        "# create Mel spectrogram feature space by concatenating mean, median, and variance features\n",
        "mel_feature_space = np.concatenate((mel_mean, mel_median, mel_var), axis=1)"
      ]
    },
    {
      "cell_type": "code",
      "execution_count": null,
      "metadata": {
        "id": "4FKTvu4xqWVe"
      },
      "outputs": [],
      "source": [
        "flatness_arr = []\n",
        "for audio in Data:\n",
        "    flatness = librosa.feature.spectral_flatness(y=audio)\n",
        "    flatness_arr.append(flatness)\n",
        "\n",
        "flatness_mean = np.mean(flatness_arr, axis=1)\n",
        "flatness_median = np.median(flatness_arr, axis=1)\n",
        "flatness_var = np.var(flatness_arr, axis=1)\n",
        "\n",
        "flatness_feature_space = np.column_stack((flatness_mean, flatness_median, flatness_var))"
      ]
    },
    {
      "cell_type": "code",
      "execution_count": null,
      "metadata": {
        "id": "uxuzHbdjqZoJ"
      },
      "outputs": [],
      "source": [
        "centroid_arr = []\n",
        "for audio in Data:\n",
        "    centroid = librosa.feature.spectral_centroid(y=audio)\n",
        "    centroid_arr.append(centroid)\n",
        "\n",
        "centroid_mean = np.mean(centroid_arr, axis=1)\n",
        "centroid_median = np.median(centroid_arr, axis=1)\n",
        "centroid_var = np.var(centroid_arr, axis=1)\n",
        "\n",
        "centroid_feature_space = np.column_stack((centroid_mean, centroid_median, centroid_var))"
      ]
    },
    {
      "cell_type": "code",
      "execution_count": null,
      "metadata": {
        "id": "BV9TAiBmqdaz"
      },
      "outputs": [],
      "source": [
        "mfccs_arr = []\n",
        "for audio in Data:\n",
        "    mfccs = librosa.feature.mfcc(y=audio, sr=22050, n_mfcc=20)\n",
        "    mfccs_arr.append(mfccs)\n",
        "\n",
        "mfcc_mean = np.mean(mfccs_arr, axis=2)\n",
        "mfcc_median = np.median(mfccs_arr, axis=2)\n",
        "mfcc_var = np.var(mfccs_arr, axis=2)\n",
        "\n",
        "mfcc_feature_space = np.concatenate((mfcc_mean, mfcc_median, mfcc_var), axis=1)"
      ]
    },
    {
      "cell_type": "markdown",
      "metadata": {
        "id": "WjKZwNsr8iPQ"
      },
      "source": [
        "# SpectoGram"
      ]
    },
    {
      "cell_type": "code",
      "source": [
        "n_mels = 256\n",
        "n_fft = 4096\n",
        "hop_length = 1024\n",
        "n_frames = 61\n",
        "sr=22050\n",
        "Spect_data = []"
      ],
      "metadata": {
        "id": "cFu3-ihNPBor"
      },
      "execution_count": null,
      "outputs": []
    },
    {
      "cell_type": "code",
      "execution_count": null,
      "metadata": {
        "id": "khetdfgB0lU8"
      },
      "outputs": [],
      "source": [
        "\n",
        "def mel_spect_data(audio,sr):\n",
        "\n",
        "    audio_dur = len(audio)/sr\n",
        "    frame_step = audio_dur / n_frames\n",
        "    hop_length=int(round(frame_step * sr))\n",
        "    mel_spec = librosa.feature.melspectrogram(y=audio, sr=sr ,n_mels=n_mels,n_fft=n_fft,hop_length = hop_length)\n",
        "    if mel_spec.shape[1] >= n_frames:\n",
        "      mel_spec = mel_spec[:, :n_frames]\n",
        "    else:\n",
        "      pad_width = n_frames - mel_spec.shape[1]\n",
        "      mel_spec = np.pad(mel_spec, ((0,0), (0,pad_width)), 'constant')\n",
        "\n",
        "    mel_spec_db = librosa.power_to_db(mel_spec, ref = np.max)\n",
        "    Spect_data.append(mel_spec_db.T[:, :, np.newaxis])\n"
      ]
    },
    {
      "cell_type": "code",
      "source": [
        "\n",
        "for element in Data:\n",
        "  mel_spect_data(element,sr)\n",
        "Spect_data = np.array(Spect_data) / -80.0"
      ],
      "metadata": {
        "id": "91CfsQ-Fsi5_"
      },
      "execution_count": null,
      "outputs": []
    },
    {
      "cell_type": "markdown",
      "metadata": {
        "id": "q6eP4CeekT99"
      },
      "source": [
        "#Split Data for Spectogram"
      ]
    },
    {
      "cell_type": "code",
      "execution_count": null,
      "metadata": {
        "colab": {
          "base_uri": "https://localhost:8080/"
        },
        "id": "vdoIx_RMl4tI",
        "outputId": "011c8d47-303e-4a65-8726-124b89c9f19a"
      },
      "outputs": [
        {
          "output_type": "stream",
          "name": "stdout",
          "text": [
            "['ANG' 'DIS' 'FEA' 'HAP' 'NEU' 'SAD']\n"
          ]
        }
      ],
      "source": [
        "unique_labels=(np.unique(data_label))\n",
        "print(unique_labels)"
      ]
    },
    {
      "cell_type": "code",
      "execution_count": null,
      "metadata": {
        "colab": {
          "base_uri": "https://localhost:8080/"
        },
        "id": "6_fvYm4akXCz",
        "outputId": "1ae5449e-7b92-4f68-9e6b-0edbf6e193e5"
      },
      "outputs": [
        {
          "output_type": "stream",
          "name": "stdout",
          "text": [
            "['ANG' 'DIS' 'FEA' 'HAP' 'NEU' 'SAD']\n",
            "[4 2 3 ... 0 3 3] \n",
            " [1 0 3 ... 2 3 3] \n",
            " [1 3 3 1 3 4 0 3 1 0 5 4 4 3 3 2 3 5 3 1 1 0 4 2 5 2 3 3 2 4 3 1 4 1 2 3 0\n",
            " 3 1 4 3 3 5 3 3 0 1 4 5 2 3 1 5 5 5 3 1 0 2 1 2 2 5 5 2 2 4 3 5 0 1 2 3 4\n",
            " 3 0 0 3 5 0 2 1 3 1 3 2 5 2 5 3 3 1 1 5 5 1 1 5 5 1 2 4 1 3 0 0 2 2 3 3 0\n",
            " 5 5 5 1 1 3 5 2 1 0 1 5 5 2 1 2 3 1 0 1 1 4 4 1 1 2 4 3 5 1 4 2 0 2 5 2 3\n",
            " 2 1 0 5 3 3 4 5 5 5 1 1 2 4 5 4 4 1 5 1 1 1 2 4 4 3 4 0 0 4 0 1 5 5 2 3 0\n",
            " 3 1 3 2 5 0 4 5 1 5 4 3 1 4 5 2 2 2 1 2 3 0 2 0 0 1 3 2 1 5 0 4 0 5 5 4 5\n",
            " 5 1 1 3 2 1 3 2 1 3 1 1 3 2 0 1 1 1 3 3 1 2 5 2 2 0 0 1 3 1 4 5 4 0 4 3 5\n",
            " 3 4]\n"
          ]
        }
      ],
      "source": [
        "unique_labels = (np.unique(data_label))\n",
        "print(unique_labels)\n",
        "Data = []\n",
        "# print(Spect_data,'\\n',data_label)\n",
        "X_train, X_test, y_train, y_test = train_test_split(Spect_data, data_label, test_size=0.3, random_state=42,shuffle=True,stratify=None)\n",
        "\n",
        "X_train, X_Validation, y_train, y_Validation = train_test_split(X_train, y_train, test_size=0.05, random_state=42,shuffle=True,stratify=None)\n",
        "\n",
        "X_train = np.array(X_train);\n",
        "X_Validation = np.array( X_Validation)\n",
        "y_train = np.array(y_train)\n",
        "y_Validation = np.array(y_Validation)\n",
        "y_test = np.array(y_test)\n",
        "X_test = np.array(X_test)\n",
        "\n",
        "y_train_num=np.array([0 for i in range(len(y_train))])\n",
        "for i in range(len(y_train)):\n",
        "  y_train_num[i] = int(np.where(unique_labels == y_train[i])[0][0])\n",
        "\n",
        "y_test_num=np.array([0 for i in range(len(y_test))])\n",
        "for i in range(len(y_test)):\n",
        "  y_test_num[i]=int(np.where(unique_labels ==y_test[i])[0][0])\n",
        "\n",
        "y_Validation_num=np.array([0 for i in range(len(y_Validation))])\n",
        "for i in range(len(y_Validation)):\n",
        "  y_Validation_num[i]=int(np.where(unique_labels ==y_Validation[i])[0][0])\n",
        "\n",
        "print(y_train_num,'\\n',y_test_num,'\\n',y_Validation_num)"
      ]
    },
    {
      "cell_type": "markdown",
      "metadata": {
        "id": "tHGS42GCCTxX"
      },
      "source": [
        "# CNN For melspectogram feature space"
      ]
    },
    {
      "cell_type": "code",
      "source": [
        "from keras.callbacks import ModelCheckpoint\n",
        "from tensorflow.keras.optimizers import Adam\n",
        "\n",
        "# Define the filepath for the saved models\n",
        "filepath = \"best_model.h5\"\n",
        "\n",
        "# Create a ModelCheckpoint callback to save the best model based on validation loss\n",
        "checkpoint = ModelCheckpoint(filepath, monitor='val_loss', verbose=1, save_best_only=True, mode='min')\n",
        "\n",
        "# Add the callback to the list of callbacks for the model.fit() method\n",
        "callbacks_list = [checkpoint]\n",
        "\n",
        "\n",
        "input_shape = (None, n_frames, n_mels)\n",
        "# define the model architecture\n",
        "\n",
        "model = models.Sequential([\n",
        "    Conv2D(32, (3, 3), activation='relu', input_shape=(n_frames, n_mels, 1)),\n",
        "   layers. MaxPooling2D((2, 2)),\n",
        "   layers. Conv2D(64, (3, 3), activation='relu'),\n",
        "    layers.MaxPooling2D((2, 2)),\n",
        "    Conv2D(128, (3, 3), activation='relu'),\n",
        "  layers.  MaxPooling2D((2, 2)),\n",
        "    layers.Conv2D(256, (3, 3), activation='relu'),\n",
        "  layers.  MaxPooling2D((2, 2)),\n",
        "   layers. Flatten(),\n",
        "  layers.  Dense(512, activation='relu'),\n",
        "   layers. Dense(6, activation='softmax')\n",
        "])\n",
        "\n",
        "#compile the model\n",
        "model.compile(optimizer=Adam(lr=.0001),\n",
        "              loss=tf.keras.losses.SparseCategoricalCrossentropy(from_logits=True),\n",
        "              metrics=['accuracy'])\n",
        "\n",
        "\n",
        "model.fit(X_train,y_train_num,batch_size=64,epochs=11, validation_data=(X_Validation, y_Validation_num),  callbacks=callbacks_list)"
      ],
      "metadata": {
        "colab": {
          "base_uri": "https://localhost:8080/"
        },
        "id": "JFusGNY99t6z",
        "outputId": "cde52ecd-0796-408c-ccba-d19b779e9608"
      },
      "execution_count": null,
      "outputs": [
        {
          "output_type": "stream",
          "name": "stderr",
          "text": [
            "WARNING:absl:`lr` is deprecated in Keras optimizer, please use `learning_rate` or use the legacy optimizer, e.g.,tf.keras.optimizers.legacy.Adam.\n"
          ]
        },
        {
          "output_type": "stream",
          "name": "stdout",
          "text": [
            "Epoch 1/11\n"
          ]
        },
        {
          "output_type": "stream",
          "name": "stderr",
          "text": [
            "/usr/local/lib/python3.10/dist-packages/keras/backend.py:5612: UserWarning: \"`sparse_categorical_crossentropy` received `from_logits=True`, but the `output` argument was produced by a Softmax activation and thus does not represent logits. Was this intended?\n",
            "  output, from_logits = _get_logits(\n"
          ]
        },
        {
          "output_type": "stream",
          "name": "stdout",
          "text": [
            "78/78 [==============================] - ETA: 0s - loss: 1.7254 - accuracy: 0.2458\n",
            "Epoch 1: val_loss improved from inf to 1.57133, saving model to best_model.h5\n",
            "78/78 [==============================] - 180s 2s/step - loss: 1.7254 - accuracy: 0.2458 - val_loss: 1.5713 - val_accuracy: 0.3448\n",
            "Epoch 2/11\n",
            "78/78 [==============================] - ETA: 0s - loss: 1.4938 - accuracy: 0.3927\n",
            "Epoch 2: val_loss improved from 1.57133 to 1.44275, saving model to best_model.h5\n",
            "78/78 [==============================] - 179s 2s/step - loss: 1.4938 - accuracy: 0.3927 - val_loss: 1.4428 - val_accuracy: 0.4138\n",
            "Epoch 3/11\n",
            "78/78 [==============================] - ETA: 0s - loss: 1.4406 - accuracy: 0.4212\n",
            "Epoch 3: val_loss improved from 1.44275 to 1.42125, saving model to best_model.h5\n",
            "78/78 [==============================] - 195s 3s/step - loss: 1.4406 - accuracy: 0.4212 - val_loss: 1.4213 - val_accuracy: 0.4215\n",
            "Epoch 4/11\n",
            "78/78 [==============================] - ETA: 0s - loss: 1.3447 - accuracy: 0.4731\n",
            "Epoch 4: val_loss improved from 1.42125 to 1.34034, saving model to best_model.h5\n",
            "78/78 [==============================] - 180s 2s/step - loss: 1.3447 - accuracy: 0.4731 - val_loss: 1.3403 - val_accuracy: 0.4253\n",
            "Epoch 5/11\n",
            "78/78 [==============================] - ETA: 0s - loss: 1.2766 - accuracy: 0.5030\n",
            "Epoch 5: val_loss improved from 1.34034 to 1.33244, saving model to best_model.h5\n",
            "78/78 [==============================] - 179s 2s/step - loss: 1.2766 - accuracy: 0.5030 - val_loss: 1.3324 - val_accuracy: 0.4483\n",
            "Epoch 6/11\n",
            "78/78 [==============================] - ETA: 0s - loss: 1.2379 - accuracy: 0.5249\n",
            "Epoch 6: val_loss improved from 1.33244 to 1.25932, saving model to best_model.h5\n",
            "78/78 [==============================] - 181s 2s/step - loss: 1.2379 - accuracy: 0.5249 - val_loss: 1.2593 - val_accuracy: 0.4598\n",
            "Epoch 7/11\n",
            "78/78 [==============================] - ETA: 0s - loss: 1.1829 - accuracy: 0.5463\n",
            "Epoch 7: val_loss did not improve from 1.25932\n",
            "78/78 [==============================] - 181s 2s/step - loss: 1.1829 - accuracy: 0.5463 - val_loss: 1.2627 - val_accuracy: 0.4636\n",
            "Epoch 8/11\n",
            "78/78 [==============================] - ETA: 0s - loss: 1.1526 - accuracy: 0.5586\n",
            "Epoch 8: val_loss improved from 1.25932 to 1.23842, saving model to best_model.h5\n",
            "78/78 [==============================] - 180s 2s/step - loss: 1.1526 - accuracy: 0.5586 - val_loss: 1.2384 - val_accuracy: 0.4789\n",
            "Epoch 9/11\n",
            "78/78 [==============================] - ETA: 0s - loss: 1.1226 - accuracy: 0.5647\n",
            "Epoch 9: val_loss improved from 1.23842 to 1.19244, saving model to best_model.h5\n",
            "78/78 [==============================] - 180s 2s/step - loss: 1.1226 - accuracy: 0.5647 - val_loss: 1.1924 - val_accuracy: 0.5134\n",
            "Epoch 10/11\n",
            "78/78 [==============================] - ETA: 0s - loss: 1.0466 - accuracy: 0.6063\n",
            "Epoch 10: val_loss improved from 1.19244 to 1.18515, saving model to best_model.h5\n",
            "78/78 [==============================] - 183s 2s/step - loss: 1.0466 - accuracy: 0.6063 - val_loss: 1.1851 - val_accuracy: 0.4866\n",
            "Epoch 11/11\n",
            "78/78 [==============================] - ETA: 0s - loss: 0.9974 - accuracy: 0.6164\n",
            "Epoch 11: val_loss did not improve from 1.18515\n",
            "78/78 [==============================] - 180s 2s/step - loss: 0.9974 - accuracy: 0.6164 - val_loss: 1.1882 - val_accuracy: 0.5441\n"
          ]
        },
        {
          "output_type": "execute_result",
          "data": {
            "text/plain": [
              "<keras.callbacks.History at 0x7f8b1a8aacb0>"
            ]
          },
          "metadata": {},
          "execution_count": 19
        }
      ]
    },
    {
      "cell_type": "code",
      "execution_count": null,
      "metadata": {
        "colab": {
          "base_uri": "https://localhost:8080/"
        },
        "id": "siSMYePs8HpH",
        "outputId": "e43926d4-2e0f-46d3-fed8-75b56bb7fb82"
      },
      "outputs": [
        {
          "output_type": "stream",
          "name": "stderr",
          "text": [
            "WARNING:absl:`lr` is deprecated in Keras optimizer, please use `learning_rate` or use the legacy optimizer, e.g.,tf.keras.optimizers.legacy.Adam.\n"
          ]
        },
        {
          "output_type": "stream",
          "name": "stdout",
          "text": [
            "Epoch 1/10\n"
          ]
        },
        {
          "output_type": "stream",
          "name": "stderr",
          "text": [
            "/usr/local/lib/python3.10/dist-packages/keras/backend.py:5612: UserWarning: \"`sparse_categorical_crossentropy` received `from_logits=True`, but the `output` argument was produced by a Softmax activation and thus does not represent logits. Was this intended?\n",
            "  output, from_logits = _get_logits(\n"
          ]
        },
        {
          "output_type": "stream",
          "name": "stdout",
          "text": [
            "78/78 [==============================] - ETA: 0s - loss: 1.7667 - accuracy: 0.2160\n",
            "Epoch 1: val_loss improved from inf to 1.65486, saving model to best_model.h5\n",
            "78/78 [==============================] - 178s 2s/step - loss: 1.7667 - accuracy: 0.2160 - val_loss: 1.6549 - val_accuracy: 0.3372\n",
            "Epoch 2/10\n",
            "78/78 [==============================] - ETA: 0s - loss: 1.5927 - accuracy: 0.3347\n",
            "Epoch 2: val_loss improved from 1.65486 to 1.52292, saving model to best_model.h5\n",
            "78/78 [==============================] - 175s 2s/step - loss: 1.5927 - accuracy: 0.3347 - val_loss: 1.5229 - val_accuracy: 0.3525\n",
            "Epoch 3/10\n",
            "78/78 [==============================] - ETA: 0s - loss: 1.4610 - accuracy: 0.4141\n",
            "Epoch 3: val_loss improved from 1.52292 to 1.39965, saving model to best_model.h5\n",
            "78/78 [==============================] - 178s 2s/step - loss: 1.4610 - accuracy: 0.4141 - val_loss: 1.3997 - val_accuracy: 0.4100\n",
            "Epoch 4/10\n",
            "78/78 [==============================] - ETA: 0s - loss: 1.3704 - accuracy: 0.4553\n",
            "Epoch 4: val_loss improved from 1.39965 to 1.35467, saving model to best_model.h5\n",
            "78/78 [==============================] - 177s 2s/step - loss: 1.3704 - accuracy: 0.4553 - val_loss: 1.3547 - val_accuracy: 0.4444\n",
            "Epoch 5/10\n",
            "78/78 [==============================] - ETA: 0s - loss: 1.3203 - accuracy: 0.4751\n",
            "Epoch 5: val_loss did not improve from 1.35467\n",
            "78/78 [==============================] - 175s 2s/step - loss: 1.3203 - accuracy: 0.4751 - val_loss: 1.4031 - val_accuracy: 0.4330\n",
            "Epoch 6/10\n",
            "78/78 [==============================] - ETA: 0s - loss: 1.2611 - accuracy: 0.5107\n",
            "Epoch 6: val_loss did not improve from 1.35467\n",
            "78/78 [==============================] - 173s 2s/step - loss: 1.2611 - accuracy: 0.5107 - val_loss: 1.3730 - val_accuracy: 0.4291\n",
            "Epoch 7/10\n",
            "78/78 [==============================] - ETA: 0s - loss: 1.2163 - accuracy: 0.5263\n",
            "Epoch 7: val_loss improved from 1.35467 to 1.28929, saving model to best_model.h5\n",
            "78/78 [==============================] - 179s 2s/step - loss: 1.2163 - accuracy: 0.5263 - val_loss: 1.2893 - val_accuracy: 0.4981\n",
            "Epoch 8/10\n",
            "78/78 [==============================] - ETA: 0s - loss: 1.1826 - accuracy: 0.5402\n",
            "Epoch 8: val_loss improved from 1.28929 to 1.21025, saving model to best_model.h5\n",
            "78/78 [==============================] - 177s 2s/step - loss: 1.1826 - accuracy: 0.5402 - val_loss: 1.2103 - val_accuracy: 0.4943\n",
            "Epoch 9/10\n",
            "78/78 [==============================] - ETA: 0s - loss: 1.1255 - accuracy: 0.5671\n",
            "Epoch 9: val_loss did not improve from 1.21025\n",
            "78/78 [==============================] - 179s 2s/step - loss: 1.1255 - accuracy: 0.5671 - val_loss: 1.2311 - val_accuracy: 0.4866\n",
            "Epoch 10/10\n",
            "78/78 [==============================] - ETA: 0s - loss: 1.0683 - accuracy: 0.5885\n",
            "Epoch 10: val_loss did not improve from 1.21025\n",
            "78/78 [==============================] - 182s 2s/step - loss: 1.0683 - accuracy: 0.5885 - val_loss: 1.2820 - val_accuracy: 0.4751\n"
          ]
        },
        {
          "output_type": "execute_result",
          "data": {
            "text/plain": [
              "<keras.callbacks.History at 0x7f8b1a216680>"
            ]
          },
          "metadata": {},
          "execution_count": 10
        }
      ],
      "source": [
        "from keras.callbacks import ModelCheckpoint\n",
        "from tensorflow.keras.optimizers import Adam\n",
        "\n",
        "# Define the filepath for the saved models\n",
        "filepath = \"best_model.h5\"\n",
        "\n",
        "# Create a ModelCheckpoint callback to save the best model based on validation loss\n",
        "checkpoint = ModelCheckpoint(filepath, monitor='val_loss', verbose=1, save_best_only=True, mode='min')\n",
        "\n",
        "# Add the callback to the list of callbacks for the model.fit() method\n",
        "callbacks_list = [checkpoint]\n",
        "\n",
        "\n",
        "input_shape = (None, n_frames, n_mels)\n",
        "#define the model architecture\n",
        "# model = models.Sequential([\n",
        "#   layers.Conv2D(32,  kernel_size=(3, 3),strides=(1, 1), activation='relu',input_shape=(n_frames, n_mels,1)),\n",
        "#   layers.Conv2D(32,  kernel_size=(3,3),strides=(1, 1), activation='relu'),\n",
        "#   layers.MaxPooling2D((3, 3),strides=(2, 2)),\n",
        "#   layers.Conv2D(64, (3, 3), activation='relu'),\n",
        "#   layers.Conv2D(64, (3, 3), activation='relu'),\n",
        "#   layers.MaxPooling2D((3, 3),strides=(2, 2)),\n",
        "#   layers.Conv2D(128, (3, 3), activation='relu'),\n",
        "#   layers.Conv2D(128, (3, 3), activation='relu'),\n",
        "#   layers.MaxPooling2D((3, 3),strides=(2, 2)),\n",
        "#   # layers.Conv2D(256, (3, 3), activation='relu'),\n",
        "#   # layers.Conv2D(256, (3, 3), activation='relu'),\n",
        "#   # layers.MaxPooling2D((3, 3),strides=(1, 1)),\n",
        "#   layers.Flatten(),\n",
        "#   layers.Dense(256, activation='relu'),\n",
        "#   layers.Dense(64, activation='relu'),########\n",
        "#   layers.Dense(32, activation='relu'),#########\n",
        "#   layers.Dense(6),\n",
        "#   layers.Activation('softmax')\n",
        "# ])\n",
        "model = models.Sequential([\n",
        "    Conv2D(32, (3, 3), activation='relu', input_shape=(n_frames, n_mels, 1)),\n",
        "   layers. MaxPooling2D((2, 2)),\n",
        "   layers. Conv2D(64, (3, 3), activation='relu'),\n",
        "    layers.MaxPooling2D((2, 2)),\n",
        "    Conv2D(128, (3, 3), activation='relu'),\n",
        "  layers.  MaxPooling2D((2, 2)),\n",
        "    layers.Conv2D(256, (3, 3), activation='relu'),\n",
        "  layers.  MaxPooling2D((2, 2)),\n",
        "   layers. Flatten(),\n",
        "  layers.  Dense(512, activation='relu'),\n",
        "   layers. Dense(6, activation='softmax')\n",
        "])\n",
        "\n",
        "#compile the model\n",
        "model.compile(optimizer=Adam(lr=.0001),\n",
        "              loss=tf.keras.losses.SparseCategoricalCrossentropy(from_logits=True),\n",
        "              metrics=['accuracy'])\n",
        "\n",
        "#print(len(X_train),len(y_train_num))\n",
        "\n",
        "model.fit(X_train,y_train_num,batch_size=64,epochs=10, validation_data=(X_Validation, y_Validation_num),  callbacks=callbacks_list)"
      ]
    },
    {
      "cell_type": "markdown",
      "metadata": {
        "id": "9s7JLtZnBKl7"
      },
      "source": [
        "Predict Test Data of melspectogram"
      ]
    },
    {
      "cell_type": "code",
      "execution_count": null,
      "metadata": {
        "colab": {
          "base_uri": "https://localhost:8080/"
        },
        "id": "oy_FV0ZWBLpz",
        "outputId": "1ccaa110-f56c-4b72-997d-67c997afc819"
      },
      "outputs": [
        {
          "output_type": "stream",
          "name": "stdout",
          "text": [
            "(2233, 65, 256, 1)\n",
            "70/70 [==============================] - 20s 282ms/step\n"
          ]
        }
      ],
      "source": [
        "print(np.shape(X_test))\n",
        "Predected_labels_specto=model.predict(np.array(X_test))"
      ]
    },
    {
      "cell_type": "code",
      "execution_count": null,
      "metadata": {
        "colab": {
          "base_uri": "https://localhost:8080/"
        },
        "id": "MBV5xP5w0Du_",
        "outputId": "781a1e4c-9828-44fe-e6d8-6990df857bf9"
      },
      "outputs": [
        {
          "output_type": "stream",
          "name": "stdout",
          "text": [
            "[[1.20744226e-03 5.73798180e-01 4.38965075e-02 8.92248750e-03\n",
            "  5.77557087e-02 3.14419746e-01]\n",
            " [4.17518318e-01 1.98447302e-01 2.76237316e-02 7.73147196e-02\n",
            "  2.72608578e-01 6.48730528e-03]\n",
            " [3.73301268e-01 1.08403005e-01 3.01927384e-02 4.86691982e-01\n",
            "  7.17566756e-04 6.93419948e-04]\n",
            " ...\n",
            " [3.43950139e-03 2.71202385e-01 3.33010629e-02 6.44899160e-02\n",
            "  3.83217752e-01 2.44349286e-01]\n",
            " [8.07684362e-01 1.13967974e-02 2.55168248e-02 1.54970601e-01\n",
            "  3.72229348e-04 5.92388205e-05]\n",
            " [4.59969640e-01 3.82046908e-01 1.18687581e-02 8.68453458e-02\n",
            "  5.08383811e-02 8.43090657e-03]]\n",
            "[1, 0, 3, 1, 1, 1, 3, 2, 3, 2, 5, 5, 4, 3, 1, 3, 0, 0, 4, 1, 4, 3, 4, 5, 0, 0, 4, 3, 4, 4, 4, 3, 1, 1, 0, 1, 0, 3, 4, 3, 0, 4, 0, 4, 3, 1, 4, 4, 1, 1, 1, 1, 5, 0, 0, 5, 1, 1, 3, 4, 4, 0, 5, 2, 3, 4, 0, 4, 0, 3, 1, 0, 4, 2, 0, 0, 0, 3, 1, 1, 4, 3, 0, 3, 1, 3, 3, 0, 5, 0, 1, 0, 3, 5, 1, 0, 4, 1, 1, 4, 3, 3, 2, 0, 3, 0, 0, 4, 5, 3, 3, 5, 1, 0, 4, 1, 1, 0, 5, 3, 5, 1, 1, 4, 4, 3, 3, 3, 5, 4, 0, 5, 1, 3, 0, 1, 3, 0, 1, 3, 4, 2, 0, 5, 2, 3, 4, 4, 0, 3, 4, 4, 5, 4, 4, 1, 3, 4, 1, 1, 1, 1, 1, 4, 3, 2, 3, 1, 1, 0, 1, 1, 5, 0, 4, 4, 0, 3, 0, 0, 4, 0, 4, 0, 4, 5, 5, 1, 4, 1, 1, 5, 0, 3, 1, 1, 4, 4, 0, 4, 4, 0, 2, 0, 0, 4, 4, 0, 3, 4, 3, 0, 1, 5, 1, 3, 0, 1, 3, 1, 2, 3, 1, 1, 4, 3, 2, 3, 3, 5, 0, 3, 0, 4, 3, 1, 3, 5, 0, 3, 3, 5, 1, 2, 4, 1, 0, 4, 1, 2, 4, 0, 0, 1, 4, 1, 5, 0, 0, 3, 1, 1, 2, 0, 0, 2, 3, 3, 1, 0, 0, 0, 1, 3, 5, 4, 3, 2, 4, 0, 0, 1, 0, 3, 2, 4, 3, 5, 1, 1, 1, 1, 4, 1, 3, 4, 0, 1, 3, 0, 1, 2, 1, 3, 3, 4, 0, 2, 1, 0, 2, 4, 1, 4, 3, 1, 0, 5, 4, 3, 3, 3, 1, 3, 3, 3, 1, 3, 0, 4, 3, 0, 1, 3, 5, 5, 4, 5, 4, 0, 2, 4, 3, 1, 1, 0, 0, 0, 0, 0, 4, 1, 0, 4, 1, 4, 5, 3, 3, 5, 3, 1, 3, 3, 3, 1, 1, 3, 4, 0, 5, 4, 0, 1, 0, 4, 1, 3, 4, 4, 1, 4, 5, 3, 4, 2, 0, 0, 4, 1, 4, 3, 1, 2, 0, 3, 4, 3, 1, 1, 1, 0, 4, 4, 1, 0, 3, 3, 3, 3, 0, 1, 1, 3, 1, 4, 4, 0, 0, 0, 1, 1, 0, 1, 4, 2, 4, 0, 0, 5, 0, 0, 0, 1, 4, 1, 4, 0, 5, 3, 0, 5, 0, 1, 1, 1, 3, 1, 1, 1, 0, 4, 0, 5, 1, 3, 3, 4, 1, 4, 0, 5, 0, 5, 1, 0, 4, 0, 1, 3, 3, 0, 4, 5, 4, 1, 5, 0, 1, 4, 1, 4, 1, 4, 3, 0, 1, 0, 0, 1, 3, 4, 0, 1, 3, 5, 1, 0, 4, 3, 1, 3, 3, 0, 1, 4, 0, 4, 5, 2, 1, 4, 0, 0, 1, 0, 3, 4, 0, 0, 0, 1, 5, 3, 1, 4, 5, 3, 0, 1, 1, 0, 4, 4, 4, 0, 0, 4, 0, 0, 3, 1, 0, 1, 1, 1, 3, 5, 3, 2, 4, 4, 1, 3, 3, 0, 5, 4, 4, 4, 0, 0, 3, 5, 1, 0, 1, 4, 0, 0, 3, 4, 4, 3, 1, 1, 0, 3, 3, 0, 0, 1, 2, 1, 0, 5, 1, 2, 4, 0, 3, 1, 0, 0, 3, 3, 1, 5, 0, 1, 5, 5, 3, 0, 1, 0, 5, 1, 3, 5, 1, 4, 0, 0, 0, 0, 4, 1, 2, 0, 0, 4, 0, 3, 0, 3, 1, 3, 2, 5, 4, 1, 4, 0, 4, 1, 4, 3, 1, 0, 0, 3, 0, 3, 0, 0, 3, 3, 0, 1, 3, 1, 0, 1, 5, 1, 4, 5, 1, 5, 3, 3, 2, 0, 4, 1, 0, 3, 1, 4, 4, 4, 0, 3, 4, 0, 5, 4, 3, 1, 3, 1, 0, 2, 1, 3, 3, 3, 0, 0, 1, 4, 1, 2, 1, 3, 5, 3, 5, 3, 5, 5, 0, 3, 1, 1, 2, 0, 4, 4, 1, 5, 3, 1, 3, 5, 0, 3, 4, 1, 1, 5, 1, 1, 4, 3, 0, 0, 2, 3, 3, 4, 3, 3, 1, 4, 1, 1, 4, 0, 5, 0, 4, 3, 2, 4, 1, 3, 0, 3, 0, 3, 4, 1, 1, 3, 1, 1, 1, 5, 2, 3, 5, 0, 0, 0, 3, 3, 4, 4, 0, 1, 2, 1, 1, 3, 4, 0, 5, 3, 0, 4, 4, 4, 3, 4, 5, 4, 4, 0, 3, 5, 4, 0, 5, 0, 0, 3, 1, 1, 5, 3, 1, 2, 0, 3, 0, 4, 0, 0, 4, 1, 4, 1, 4, 3, 3, 3, 5, 4, 0, 3, 3, 3, 1, 3, 0, 0, 4, 3, 5, 3, 1, 0, 0, 3, 0, 0, 0, 4, 1, 4, 4, 5, 5, 1, 4, 4, 1, 1, 1, 1, 1, 0, 1, 3, 5, 2, 0, 0, 0, 4, 0, 5, 0, 4, 4, 5, 1, 3, 0, 1, 0, 1, 5, 1, 5, 4, 1, 5, 1, 0, 5, 3, 4, 4, 4, 4, 5, 0, 0, 1, 4, 1, 3, 5, 3, 4, 1, 0, 4, 1, 4, 0, 0, 3, 4, 1, 4, 5, 4, 0, 4, 0, 4, 0, 1, 4, 3, 5, 4, 4, 5, 1, 4, 0, 0, 1, 0, 3, 3, 5, 1, 1, 4, 4, 4, 0, 0, 0, 3, 4, 0, 1, 4, 2, 4, 5, 0, 4, 3, 0, 5, 3, 4, 4, 3, 1, 4, 0, 5, 0, 4, 1, 0, 1, 5, 1, 3, 3, 1, 4, 1, 1, 3, 0, 3, 0, 1, 3, 0, 3, 0, 5, 5, 5, 4, 3, 3, 4, 1, 2, 5, 3, 4, 3, 5, 4, 5, 0, 0, 4, 4, 1, 0, 4, 3, 1, 4, 0, 0, 1, 1, 0, 5, 1, 1, 5, 1, 0, 0, 4, 1, 0, 4, 0, 3, 3, 3, 0, 3, 4, 3, 3, 4, 1, 4, 0, 4, 4, 3, 4, 3, 3, 5, 3, 4, 0, 4, 0, 1, 1, 0, 4, 3, 1, 0, 5, 0, 4, 4, 1, 1, 5, 0, 0, 0, 0, 4, 5, 4, 0, 3, 0, 3, 3, 4, 1, 4, 3, 3, 4, 0, 4, 0, 4, 0, 4, 0, 2, 5, 1, 0, 3, 3, 0, 4, 5, 0, 5, 1, 2, 3, 0, 4, 1, 0, 4, 2, 0, 3, 5, 1, 3, 5, 0, 1, 0, 5, 4, 5, 1, 1, 0, 3, 0, 4, 4, 0, 4, 1, 3, 3, 0, 0, 4, 1, 5, 3, 0, 0, 1, 0, 1, 3, 5, 4, 0, 0, 1, 5, 2, 1, 3, 0, 3, 1, 4, 3, 4, 0, 1, 4, 3, 0, 4, 0, 0, 2, 3, 3, 3, 5, 5, 1, 1, 3, 0, 4, 1, 4, 3, 0, 1, 4, 1, 0, 0, 1, 3, 4, 0, 0, 3, 4, 0, 0, 3, 4, 0, 4, 3, 4, 4, 4, 4, 1, 0, 3, 1, 3, 4, 4, 0, 3, 5, 5, 1, 3, 1, 3, 0, 1, 4, 3, 3, 5, 0, 1, 1, 4, 0, 0, 0, 0, 3, 0, 5, 2, 1, 1, 3, 4, 5, 5, 0, 1, 3, 3, 1, 3, 3, 3, 3, 1, 0, 5, 5, 3, 0, 4, 0, 1, 4, 0, 2, 3, 1, 0, 3, 3, 0, 2, 4, 3, 4, 2, 1, 5, 3, 3, 5, 1, 5, 1, 4, 0, 0, 3, 1, 1, 0, 0, 3, 4, 0, 0, 4, 3, 5, 1, 4, 4, 4, 1, 1, 1, 3, 4, 3, 1, 3, 4, 4, 4, 0, 1, 1, 1, 1, 1, 0, 4, 3, 1, 1, 0, 0, 0, 1, 0, 3, 4, 4, 1, 3, 4, 1, 2, 0, 0, 1, 1, 0, 0, 5, 0, 3, 0, 3, 1, 4, 5, 3, 2, 4, 1, 1, 3, 4, 4, 0, 1, 3, 4, 3, 1, 3, 3, 1, 4, 1, 3, 1, 3, 2, 0, 0, 4, 4, 1, 4, 1, 0, 4, 3, 3, 1, 5, 0, 3, 4, 5, 0, 3, 4, 1, 5, 5, 0, 1, 0, 0, 2, 4, 0, 5, 3, 5, 4, 3, 4, 1, 1, 4, 4, 1, 5, 3, 4, 5, 3, 0, 1, 5, 0, 3, 1, 1, 0, 0, 4, 5, 4, 0, 0, 2, 5, 4, 3, 1, 3, 3, 4, 1, 2, 5, 1, 3, 3, 3, 4, 4, 3, 1, 0, 5, 1, 1, 5, 5, 0, 4, 3, 3, 4, 0, 3, 0, 0, 1, 3, 1, 3, 1, 0, 1, 4, 0, 1, 0, 4, 4, 3, 1, 3, 4, 0, 0, 0, 1, 5, 4, 1, 1, 4, 5, 3, 0, 1, 1, 1, 3, 0, 4, 3, 4, 4, 4, 1, 1, 4, 0, 0, 5, 4, 0, 4, 1, 4, 3, 1, 4, 4, 0, 3, 3, 4, 0, 0, 1, 1, 3, 1, 3, 5, 3, 4, 0, 2, 4, 1, 5, 1, 4, 1, 0, 0, 4, 1, 1, 5, 2, 4, 5, 5, 0, 3, 5, 0, 1, 4, 0, 4, 3, 3, 3, 0, 3, 4, 1, 2, 3, 3, 0, 0, 3, 0, 0, 1, 4, 2, 3, 1, 4, 0, 4, 5, 4, 3, 4, 1, 0, 1, 5, 5, 4, 3, 3, 1, 3, 1, 0, 4, 3, 4, 5, 3, 4, 3, 2, 3, 2, 1, 1, 1, 4, 3, 1, 0, 4, 4, 4, 0, 3, 0, 4, 1, 1, 1, 5, 4, 3, 2, 4, 1, 3, 5, 1, 0, 5, 0, 0, 0, 2, 1, 2, 3, 2, 2, 5, 3, 0, 4, 3, 0, 1, 0, 1, 1, 5, 1, 0, 1, 3, 5, 3, 3, 3, 5, 0, 1, 0, 4, 5, 3, 4, 3, 4, 5, 3, 4, 1, 4, 2, 4, 3, 0, 3, 0, 1, 5, 4, 3, 3, 4, 1, 3, 0, 0, 3, 5, 1, 0, 4, 1, 1, 4, 0, 0, 4, 3, 5, 4, 4, 3, 3, 5, 0, 4, 3, 4, 0, 0, 2, 0, 0, 1, 2, 4, 1, 1, 4, 5, 5, 5, 0, 1, 3, 1, 3, 4, 0, 4, 0, 3, 1, 0, 3, 0, 4, 1, 5, 1, 2, 0, 1, 1, 4, 3, 5, 0, 4, 3, 1, 3, 5, 5, 3, 1, 0, 4, 3, 1, 4, 4, 3, 1, 3, 4, 3, 5, 4, 3, 3, 3, 5, 1, 2, 0, 4, 0, 0, 1, 3, 0, 4, 1, 5, 1, 1, 3, 0, 5, 4, 4, 4, 0, 1, 0, 3, 1, 2, 5, 1, 0, 4, 0, 1, 5, 4, 0, 1, 0, 3, 4, 4, 4, 1, 3, 0, 3, 4, 1, 4, 1, 4, 1, 1, 4, 3, 3, 4, 4, 3, 1, 1, 0, 0, 0, 5, 0, 1, 1, 4, 1, 4, 0, 5, 0, 1, 5, 3, 5, 3, 0, 5, 1, 5, 5, 4, 1, 4, 3, 0, 3, 3, 0, 1, 0, 0, 5, 5, 4, 3, 0, 1, 3, 3, 4, 0, 1, 0, 3, 0, 4, 0, 1, 1, 3, 4, 3, 0, 0, 4, 0, 5, 4, 5, 4, 1, 4, 1, 4, 5, 5, 5, 0, 4, 4, 2, 1, 0, 1, 3, 1, 4, 1, 3, 0, 4, 1, 3, 1, 1, 1, 2, 4, 1, 1, 3, 1, 0, 1, 1, 5, 0, 3, 4, 1, 1, 1, 4, 5, 0, 1, 4, 5, 3, 3, 0, 3, 1, 4, 0, 0, 5, 5, 5, 4, 0, 1, 4, 4, 5, 4, 1, 1, 2, 0, 0, 5, 5, 0, 0, 4, 1, 3, 0, 0, 1, 0, 0, 4, 1, 3, 0, 3, 5, 3, 5, 0, 1, 3, 2, 0, 4, 4, 0, 0, 3, 3, 4, 5, 4, 3, 1, 3, 0, 4, 0, 5, 0, 1, 3, 5, 1, 2, 0, 3, 0, 4, 0, 3, 4, 0, 0, 4, 4, 1, 4, 4, 4, 0, 1, 1, 1, 2, 5, 3, 5, 4, 4, 3, 4, 4, 4, 0, 4, 2, 0, 3, 4, 1, 0, 1, 3, 0, 1, 0, 5, 3, 1, 2, 3, 0, 3, 1, 4, 4, 4, 0, 5, 3, 4, 1, 1, 3, 0, 2, 0, 0, 4, 0, 1, 4, 1, 3, 5, 1, 4, 1, 3, 0, 0, 4, 4, 4, 0, 5, 1, 3, 4, 0, 0, 4, 0, 5, 3, 1, 1, 1, 5, 0, 0, 4, 3, 5, 0, 1, 3, 4, 4, 0, 3, 0, 5, 0, 4, 1, 0, 3, 5, 3, 0, 4, 5, 3, 1, 1, 3, 0, 0, 4, 0, 1, 4, 4, 5, 4, 4, 2, 1, 3, 3, 2, 1, 5, 3, 3, 4, 4, 3, 2, 5, 1, 1, 5, 3, 3, 5, 4, 3, 4, 1, 5, 4, 3, 0, 1, 3, 3, 0, 4, 4, 4, 3, 0, 1, 1, 3, 1, 0, 1, 3, 3, 5, 5, 0, 5, 4, 3, 0, 3, 0, 4, 4, 3, 5, 0, 0, 4, 1, 1, 4, 5, 3, 0, 1, 5, 4, 0, 0]\n"
          ]
        }
      ],
      "source": [
        "print(Predected_labels_specto)\n",
        "Label_predicted= [0 for i in range(len(Predected_labels_specto))]\n",
        "# Predected_labels_specto=np.array(Predected_labels_specto)\n",
        "for i in range(len(Predected_labels_specto)):\n",
        "  max_element = np.max(Predected_labels_specto[i])\n",
        "  Label_predicted[i]=np.where(Predected_labels_specto[i] == max_element)[0][0]\n",
        "\n",
        "print(Label_predicted)"
      ]
    },
    {
      "cell_type": "markdown",
      "metadata": {
        "id": "8DsBLgWsCXEe"
      },
      "source": []
    },
    {
      "cell_type": "markdown",
      "metadata": {
        "id": "twIwUs7lUOjS"
      },
      "source": [
        "#Split Data for Time of Frequency"
      ]
    },
    {
      "cell_type": "code",
      "execution_count": null,
      "metadata": {
        "colab": {
          "base_uri": "https://localhost:8080/"
        },
        "id": "BiXv4l49Ug4W",
        "outputId": "52c18be9-865b-4099-9493-47c3747e3b1d"
      },
      "outputs": [
        {
          "output_type": "stream",
          "name": "stdout",
          "text": [
            "[4 2 3 ... 0 3 3] \n",
            " [1 0 3 ... 2 3 3] \n",
            " [1 3 3 1 3 4 0 3 1 0 5 4 4 3 3 2 3 5 3 1 1 0 4 2 5 2 3 3 2 4 3 1 4 1 2 3 0\n",
            " 3 1 4 3 3 5 3 3 0 1 4 5 2 3 1 5 5 5 3 1 0 2 1 2 2 5 5 2 2 4 3 5 0 1 2 3 4\n",
            " 3 0 0 3 5 0 2 1 3 1 3 2 5 2 5 3 3 1 1 5 5 1 1 5 5 1 2 4 1 3 0 0 2 2 3 3 0\n",
            " 5 5 5 1 1 3 5 2 1 0 1 5 5 2 1 2 3 1 0 1 1 4 4 1 1 2 4 3 5 1 4 2 0 2 5 2 3\n",
            " 2 1 0 5 3 3 4 5 5 5 1 1 2 4 5 4 4 1 5 1 1 1 2 4 4 3 4 0 0 4 0 1 5 5 2 3 0\n",
            " 3 1 3 2 5 0 4 5 1 5 4 3 1 4 5 2 2 2 1 2 3 0 2 0 0 1 3 2 1 5 0 4 0 5 5 4 5\n",
            " 5 1 1 3 2 1 3 2 1 3 1 1 3 2 0 1 1 1 3 3 1 2 5 2 2 0 0 1 3 1 4 5 4 0 4 3 5\n",
            " 3 4]\n"
          ]
        }
      ],
      "source": [
        "# unique_labels=(np.unique(data_label))\n",
        "# print(unique_labels)\n",
        "#Data=[]\n",
        "# print(Spect_data,'\\n',data_label)\n",
        "X_train, X_test, y_train, y_test = train_test_split(Result, data_label, test_size=0.3, random_state=42,shuffle=True,stratify=None)\n",
        "X_train, X_Validation, y_train, y_Validation = train_test_split(X_train, y_train, test_size=0.05, random_state=42,shuffle=True,stratify=None)\n",
        "\n",
        "X_train=np.array(X_train);\n",
        "X_Validation=np.array( X_Validation)\n",
        "y_train=np.array(y_train)\n",
        "y_Validation=np.array(y_Validation)\n",
        "y_test=np.array(y_test)\n",
        "X_test=np.array(X_test)\n",
        "\n",
        "y_train_num=np.array([0 for i in range(len(y_train))])\n",
        "for i in range(len(y_train)):\n",
        "  y_train_num[i]=int(np.where(unique_labels ==y_train[i])[0][0])\n",
        "\n",
        "y_test_num=np.array([0 for i in range(len(y_test))])\n",
        "for i in range(len(y_test)):\n",
        "  y_test_num[i]=int(np.where(unique_labels ==y_test[i])[0][0])\n",
        "\n",
        "\n",
        "y_Validation_num=np.array([0 for i in range(len(y_Validation))])\n",
        "for i in range(len(y_Validation)):\n",
        "  y_Validation_num[i]=int(np.where(unique_labels ==y_Validation[i])[0][0])\n",
        "\n",
        "print(y_train_num,'\\n',y_test_num,'\\n',y_Validation_num)"
      ]
    },
    {
      "cell_type": "markdown",
      "metadata": {
        "id": "7nEsaSKmCYVH"
      },
      "source": [
        "# CNN For the time domain or frequency domain feature space"
      ]
    },
    {
      "cell_type": "code",
      "execution_count": null,
      "metadata": {
        "colab": {
          "base_uri": "https://localhost:8080/"
        },
        "id": "HWAlgMR0CeE0",
        "outputId": "00d06701-2779-4d11-d02d-8616c1232fad"
      },
      "outputs": [
        {
          "output_type": "stream",
          "name": "stdout",
          "text": [
            "Epoch 1/10\n",
            "155/155 [==============================] - 4s 15ms/step - loss: 1.6789 - accuracy: 0.2546 - val_loss: 1.6228 - val_accuracy: 0.2989\n",
            "Epoch 2/10\n",
            "155/155 [==============================] - 2s 13ms/step - loss: 1.5622 - accuracy: 0.3345 - val_loss: 1.5640 - val_accuracy: 0.3410\n",
            "Epoch 3/10\n",
            "155/155 [==============================] - 3s 19ms/step - loss: 1.5311 - accuracy: 0.3616 - val_loss: 1.5644 - val_accuracy: 0.3257\n",
            "Epoch 4/10\n",
            "155/155 [==============================] - 2s 14ms/step - loss: 1.5119 - accuracy: 0.3717 - val_loss: 1.5591 - val_accuracy: 0.3218\n",
            "Epoch 5/10\n",
            "155/155 [==============================] - 2s 13ms/step - loss: 1.5055 - accuracy: 0.3747 - val_loss: 1.5609 - val_accuracy: 0.3333\n",
            "Epoch 6/10\n",
            "155/155 [==============================] - 2s 13ms/step - loss: 1.5036 - accuracy: 0.3713 - val_loss: 1.5510 - val_accuracy: 0.3295\n",
            "Epoch 7/10\n",
            "155/155 [==============================] - 2s 13ms/step - loss: 1.4979 - accuracy: 0.3808 - val_loss: 1.5562 - val_accuracy: 0.3525\n",
            "Epoch 8/10\n",
            "155/155 [==============================] - 2s 13ms/step - loss: 1.4897 - accuracy: 0.3789 - val_loss: 1.5667 - val_accuracy: 0.3487\n",
            "Epoch 9/10\n",
            "155/155 [==============================] - 3s 19ms/step - loss: 1.4872 - accuracy: 0.3862 - val_loss: 1.5567 - val_accuracy: 0.3793\n",
            "Epoch 10/10\n",
            "155/155 [==============================] - 2s 13ms/step - loss: 1.4884 - accuracy: 0.3854 - val_loss: 1.5536 - val_accuracy: 0.3716\n"
          ]
        },
        {
          "output_type": "execute_result",
          "data": {
            "text/plain": [
              "<keras.callbacks.History at 0x7f6f995cd8d0>"
            ]
          },
          "metadata": {},
          "execution_count": 85
        }
      ],
      "source": [
        "# define the input shape of the images\n",
        "#define the model architecture\n",
        "model1 = models.Sequential([\n",
        "  layers.Conv1D(32,  kernel_size=5,strides=1, activation='relu',input_shape=(55,1)),\n",
        "  layers.Conv1D(32,  kernel_size=5,strides=1, activation='relu'),\n",
        "  layers.Conv1D(32,  kernel_size=5,strides=1, activation='relu'),\n",
        "  layers.MaxPooling1D(5,strides=2),\n",
        "  layers.Conv1D(64, 3, activation='relu'),\n",
        "  layers.Conv1D(64, 3, activation='relu'),\n",
        "  layers.Conv1D(64, 3, activation='relu'),\n",
        "  layers.MaxPooling1D(3,strides=2),\n",
        "  # layers.Conv1D(128, 3, activation='relu'),\n",
        "  # layers.Conv1D(128, 3, activation='relu'),\n",
        "  # layers.MaxPooling1D(3,strides=2),\n",
        "  # layers.Conv1D(256, 5, activation='relu'),\n",
        "  # layers.Conv1D(256, 5, activation='relu'),\n",
        "  # layers.MaxPooling1D(5,strides=2),\n",
        "  layers.Flatten(),\n",
        "  layers.Dense(256, activation='relu'),\n",
        "  layers.Dense(64, activation='relu'),########\n",
        "  layers.Dense(32, activation='relu'),#########\n",
        "  layers.Dense(16, activation='relu'),#########\n",
        "  layers.Dense(6),\n",
        "  layers.Activation('softmax')\n",
        "])\n",
        "\n",
        "# compile the model\n",
        "model1.compile(optimizer='adam',\n",
        "              loss=tf.keras.losses.SparseCategoricalCrossentropy(from_logits=True),\n",
        "              metrics=['accuracy'])\n",
        "\n",
        "# train the model on a dataset\n",
        "model1.fit(X_train, y_train_num, epochs=10, validation_data=(X_Validation, y_Validation_num))"
      ]
    },
    {
      "cell_type": "markdown",
      "metadata": {
        "id": "o05TiyVoDIkp"
      },
      "source": [
        "Predict Test Data for For the time domain or frequency domain feature space"
      ]
    },
    {
      "cell_type": "code",
      "execution_count": null,
      "metadata": {
        "id": "FT6A2jIWDILV",
        "colab": {
          "base_uri": "https://localhost:8080/"
        },
        "outputId": "c70e730d-3134-4cc0-8b6d-123145de2d9f"
      },
      "outputs": [
        {
          "output_type": "stream",
          "name": "stdout",
          "text": [
            "70/70 [==============================] - 0s 4ms/step\n"
          ]
        }
      ],
      "source": [
        "Predected_labels_TD=model1.predict(X_test)"
      ]
    },
    {
      "cell_type": "code",
      "source": [
        "print(Predected_labels_TD)\n",
        "Label_predicted= [0 for i in range(len(Predected_labels_TD))]\n",
        "\n",
        "for i in range(len(Predected_labels_TD)):\n",
        "  max_element = np.max(Predected_labels_TD[i])\n",
        "  Label_predicted[i]=np.where(Predected_labels_TD[i] == max_element)[0][0]\n",
        "\n",
        "print(Label_predicted)"
      ],
      "metadata": {
        "colab": {
          "base_uri": "https://localhost:8080/"
        },
        "id": "e1xaGkctsQHe",
        "outputId": "d1ab5c2c-a897-466c-9e04-fbf16d21141b"
      },
      "execution_count": null,
      "outputs": [
        {
          "output_type": "stream",
          "name": "stdout",
          "text": [
            "[[3.05129513e-02 5.56750476e-01 1.02976263e-01 8.45067054e-02\n",
            "  6.38541952e-02 1.61399424e-01]\n",
            " [1.18214183e-01 2.16337994e-01 1.53661326e-01 1.80626467e-01\n",
            "  2.23008215e-01 1.08151920e-01]\n",
            " [2.10936815e-01 1.97201848e-01 1.65736064e-01 1.88844964e-01\n",
            "  1.31446272e-01 1.05834074e-01]\n",
            " ...\n",
            " [4.37306762e-02 2.73470044e-01 1.55303374e-01 1.09011501e-01\n",
            "  2.38388404e-01 1.80096000e-01]\n",
            " [9.08090353e-01 4.44761058e-03 6.76581487e-02 1.96928922e-02\n",
            "  7.35295316e-06 1.03586171e-04]\n",
            " [6.86314330e-02 1.91691712e-01 1.43714473e-01 1.52360991e-01\n",
            "  2.96908468e-01 1.46692842e-01]]\n",
            "[1, 4, 0, 4, 5, 1, 4, 5, 4, 4, 5, 5, 4, 4, 5, 3, 0, 1, 4, 5, 4, 0, 1, 5, 0, 0, 5, 3, 5, 5, 5, 3, 1, 3, 1, 5, 0, 0, 4, 3, 3, 4, 3, 5, 4, 5, 4, 1, 5, 5, 5, 5, 4, 0, 0, 5, 5, 4, 4, 5, 5, 0, 5, 5, 4, 4, 0, 1, 0, 4, 5, 0, 5, 0, 4, 0, 0, 1, 5, 1, 3, 0, 4, 4, 5, 0, 4, 1, 1, 0, 5, 0, 0, 1, 4, 0, 5, 5, 3, 1, 0, 0, 5, 0, 5, 0, 4, 4, 5, 4, 4, 1, 5, 1, 4, 1, 4, 0, 5, 5, 5, 5, 1, 4, 1, 1, 4, 0, 5, 5, 4, 5, 4, 0, 1, 1, 4, 0, 5, 3, 4, 5, 3, 5, 5, 0, 4, 4, 1, 4, 5, 5, 5, 5, 4, 1, 0, 5, 5, 5, 4, 1, 5, 1, 4, 0, 3, 5, 3, 0, 1, 4, 5, 0, 5, 5, 0, 0, 0, 0, 4, 0, 5, 0, 5, 5, 5, 5, 4, 4, 5, 5, 0, 0, 5, 5, 4, 1, 0, 5, 1, 4, 5, 0, 1, 5, 5, 3, 0, 0, 4, 0, 5, 5, 1, 3, 0, 5, 5, 0, 5, 0, 4, 0, 1, 0, 5, 4, 4, 5, 0, 0, 0, 1, 3, 5, 5, 1, 0, 0, 4, 5, 4, 1, 1, 5, 0, 4, 5, 5, 4, 0, 0, 4, 1, 5, 5, 0, 0, 4, 5, 5, 0, 0, 0, 1, 0, 5, 3, 3, 3, 0, 5, 0, 5, 4, 4, 4, 5, 1, 0, 1, 1, 3, 5, 3, 1, 5, 1, 5, 5, 1, 5, 5, 0, 4, 4, 5, 1, 0, 1, 5, 1, 4, 0, 5, 0, 5, 4, 0, 4, 4, 5, 4, 5, 5, 0, 5, 4, 0, 4, 0, 5, 0, 0, 0, 5, 1, 3, 4, 0, 0, 1, 3, 5, 5, 5, 5, 5, 0, 5, 5, 0, 5, 5, 1, 0, 0, 0, 0, 5, 1, 0, 4, 5, 5, 5, 4, 5, 5, 0, 5, 0, 0, 5, 1, 5, 0, 4, 0, 1, 1, 5, 5, 0, 4, 1, 3, 4, 4, 5, 5, 4, 5, 5, 1, 0, 0, 1, 5, 4, 4, 1, 1, 0, 4, 5, 3, 5, 5, 5, 0, 5, 5, 5, 0, 0, 4, 4, 4, 0, 5, 1, 4, 5, 5, 4, 3, 3, 0, 5, 1, 4, 4, 4, 5, 5, 0, 1, 5, 0, 0, 0, 4, 1, 1, 3, 0, 5, 4, 0, 5, 3, 1, 1, 5, 0, 1, 5, 1, 0, 5, 0, 5, 3, 4, 0, 3, 1, 1, 0, 5, 0, 5, 1, 0, 1, 1, 1, 4, 4, 4, 5, 5, 5, 5, 5, 0, 5, 3, 4, 1, 0, 4, 4, 1, 5, 0, 0, 5, 3, 5, 4, 5, 4, 5, 5, 0, 5, 0, 5, 5, 0, 3, 1, 5, 0, 4, 5, 5, 1, 4, 3, 4, 5, 0, 5, 4, 3, 0, 0, 4, 5, 4, 5, 4, 5, 0, 0, 4, 5, 0, 5, 5, 5, 0, 0, 4, 0, 0, 4, 1, 0, 5, 3, 5, 0, 5, 0, 5, 4, 5, 5, 5, 1, 0, 5, 5, 4, 4, 4, 0, 1, 5, 5, 0, 5, 0, 0, 0, 3, 1, 4, 4, 1, 4, 0, 3, 0, 0, 0, 4, 0, 1, 0, 5, 4, 4, 1, 0, 4, 1, 0, 0, 0, 0, 4, 5, 0, 5, 5, 5, 4, 0, 1, 0, 5, 5, 4, 1, 4, 1, 3, 0, 0, 1, 1, 4, 5, 0, 0, 3, 0, 0, 0, 3, 5, 4, 5, 5, 1, 1, 4, 0, 5, 5, 4, 0, 4, 0, 0, 3, 0, 3, 4, 5, 4, 4, 0, 5, 0, 1, 0, 5, 5, 0, 5, 5, 5, 5, 4, 0, 5, 0, 5, 5, 0, 0, 1, 5, 5, 4, 4, 3, 1, 0, 5, 4, 0, 1, 0, 5, 0, 0, 1, 4, 5, 5, 5, 0, 0, 4, 5, 1, 5, 4, 5, 4, 5, 0, 5, 5, 0, 0, 5, 4, 1, 0, 5, 1, 5, 1, 5, 5, 4, 1, 0, 1, 5, 4, 5, 5, 5, 1, 5, 4, 3, 0, 5, 0, 1, 4, 5, 0, 5, 4, 1, 5, 5, 0, 1, 0, 1, 5, 5, 3, 4, 0, 0, 3, 0, 0, 5, 4, 5, 4, 5, 1, 5, 5, 1, 0, 5, 0, 0, 3, 4, 1, 4, 4, 0, 5, 5, 5, 4, 0, 4, 3, 5, 3, 3, 5, 1, 4, 3, 1, 1, 5, 1, 0, 0, 5, 1, 0, 5, 4, 0, 4, 5, 5, 5, 4, 4, 5, 0, 4, 0, 5, 0, 3, 4, 5, 0, 1, 5, 4, 3, 3, 1, 1, 4, 5, 0, 4, 0, 0, 0, 4, 5, 4, 5, 1, 5, 1, 0, 0, 0, 3, 0, 4, 1, 0, 1, 5, 5, 5, 1, 5, 1, 1, 5, 5, 5, 0, 5, 0, 5, 5, 0, 4, 0, 5, 0, 5, 0, 0, 5, 5, 5, 0, 0, 5, 0, 1, 5, 4, 5, 4, 4, 5, 5, 4, 5, 4, 4, 4, 5, 5, 5, 0, 4, 5, 5, 5, 5, 5, 4, 1, 5, 0, 4, 1, 1, 1, 0, 0, 5, 1, 4, 5, 5, 3, 4, 0, 4, 1, 5, 3, 5, 5, 4, 4, 5, 5, 5, 4, 4, 5, 0, 4, 4, 5, 5, 1, 5, 4, 4, 0, 0, 0, 1, 5, 0, 1, 1, 4, 5, 5, 0, 4, 3, 4, 5, 4, 3, 1, 0, 5, 4, 3, 5, 0, 1, 4, 0, 1, 5, 5, 4, 0, 5, 5, 1, 1, 5, 0, 0, 0, 1, 3, 0, 3, 1, 5, 5, 5, 4, 1, 0, 4, 4, 5, 5, 5, 5, 4, 5, 4, 5, 0, 0, 1, 1, 5, 0, 1, 0, 5, 4, 0, 0, 5, 5, 0, 5, 4, 1, 5, 4, 3, 0, 5, 4, 3, 4, 0, 0, 0, 3, 0, 4, 4, 0, 0, 4, 5, 4, 0, 5, 4, 4, 4, 5, 4, 5, 0, 1, 3, 5, 0, 5, 4, 0, 0, 4, 5, 0, 5, 4, 5, 5, 1, 5, 5, 4, 0, 0, 0, 4, 5, 4, 0, 0, 0, 0, 3, 4, 5, 5, 4, 0, 5, 0, 1, 3, 4, 0, 4, 4, 5, 5, 5, 0, 4, 4, 0, 5, 5, 0, 5, 5, 1, 3, 0, 5, 5, 0, 4, 0, 0, 1, 5, 5, 5, 5, 0, 5, 0, 5, 5, 5, 1, 5, 0, 0, 3, 4, 4, 0, 5, 5, 3, 0, 0, 0, 5, 4, 5, 5, 0, 0, 5, 0, 5, 0, 1, 5, 0, 4, 1, 5, 5, 5, 1, 0, 0, 5, 4, 5, 3, 0, 5, 4, 5, 0, 5, 4, 0, 4, 3, 0, 5, 5, 5, 1, 5, 0, 1, 4, 5, 5, 4, 0, 1, 5, 5, 0, 0, 5, 0, 5, 0, 0, 1, 5, 4, 4, 4, 4, 0, 5, 3, 4, 5, 5, 5, 4, 0, 4, 5, 0, 5, 5, 1, 4, 5, 5, 5, 5, 5, 5, 0, 1, 1, 0, 0, 5, 3, 5, 5, 1, 0, 0, 0, 0, 3, 3, 5, 4, 5, 5, 5, 4, 1, 5, 0, 1, 0, 3, 1, 5, 3, 0, 5, 5, 4, 5, 5, 0, 0, 4, 0, 1, 4, 0, 1, 5, 5, 0, 1, 0, 0, 5, 4, 4, 1, 1, 1, 5, 4, 0, 5, 5, 5, 1, 4, 0, 0, 4, 1, 4, 0, 0, 4, 4, 4, 0, 5, 0, 5, 5, 5, 4, 1, 5, 5, 5, 4, 4, 0, 3, 0, 4, 4, 1, 0, 0, 1, 1, 5, 1, 0, 1, 1, 5, 1, 0, 0, 0, 5, 3, 3, 1, 5, 5, 4, 5, 1, 0, 0, 3, 4, 4, 0, 0, 5, 0, 1, 0, 0, 1, 3, 5, 0, 5, 4, 5, 5, 0, 4, 5, 0, 1, 0, 3, 3, 5, 0, 3, 1, 4, 5, 4, 5, 0, 5, 4, 3, 4, 5, 5, 3, 5, 0, 5, 3, 0, 4, 5, 0, 4, 4, 1, 0, 4, 5, 4, 5, 5, 0, 5, 0, 0, 1, 5, 3, 1, 0, 5, 3, 3, 4, 5, 1, 5, 5, 3, 5, 0, 4, 5, 3, 0, 4, 5, 5, 0, 1, 5, 1, 0, 4, 5, 5, 4, 0, 3, 5, 4, 4, 5, 0, 4, 4, 5, 1, 1, 5, 0, 1, 5, 1, 5, 3, 0, 0, 1, 5, 5, 5, 5, 4, 1, 0, 0, 5, 0, 1, 0, 0, 0, 4, 5, 0, 4, 4, 5, 5, 0, 5, 3, 5, 5, 4, 4, 0, 4, 4, 1, 0, 1, 5, 4, 4, 1, 4, 5, 4, 0, 5, 5, 3, 4, 4, 5, 4, 4, 5, 1, 4, 1, 4, 0, 0, 5, 4, 0, 4, 5, 1, 1, 5, 5, 4, 0, 4, 0, 5, 0, 0, 5, 5, 4, 5, 0, 5, 0, 4, 0, 5, 5, 4, 5, 5, 4, 1, 0, 5, 1, 4, 4, 5, 5, 4, 5, 5, 0, 0, 5, 0, 4, 4, 0, 5, 0, 4, 1, 0, 5, 3, 5, 5, 4, 4, 0, 0, 4, 0, 3, 5, 5, 5, 0, 1, 4, 0, 5, 5, 4, 3, 5, 5, 0, 5, 1, 5, 1, 4, 4, 4, 4, 1, 0, 5, 3, 5, 5, 4, 5, 3, 0, 4, 5, 4, 1, 0, 4, 1, 5, 0, 5, 0, 5, 3, 4, 4, 4, 4, 5, 5, 5, 4, 0, 1, 5, 4, 4, 5, 0, 0, 5, 0, 0, 0, 5, 5, 5, 4, 3, 5, 5, 0, 0, 5, 0, 0, 1, 0, 5, 1, 5, 1, 0, 5, 3, 5, 3, 4, 5, 5, 0, 1, 4, 1, 5, 3, 3, 4, 4, 5, 4, 4, 1, 1, 5, 4, 5, 0, 5, 3, 5, 5, 4, 1, 3, 0, 5, 4, 0, 3, 3, 5, 5, 0, 1, 4, 1, 5, 0, 0, 4, 5, 5, 5, 4, 0, 5, 5, 0, 4, 0, 5, 0, 4, 1, 0, 0, 5, 1, 1, 1, 4, 0, 5, 1, 1, 3, 5, 0, 1, 0, 5, 0, 4, 3, 3, 5, 0, 5, 0, 5, 3, 1, 3, 1, 0, 5, 5, 4, 5, 5, 0, 3, 1, 5, 1, 5, 5, 4, 5, 0, 5, 0, 1, 5, 5, 5, 5, 5, 1, 3, 5, 1, 0, 5, 1, 5, 5, 1, 0, 5, 4, 0, 4, 4, 0, 5, 1, 5, 5, 1, 0, 0, 5, 4, 5, 5, 3, 1, 0, 0, 5, 4, 5, 0, 0, 4, 0, 1, 5, 4, 0, 4, 4, 4, 3, 5, 0, 5, 0, 3, 4, 5, 1, 4, 1, 4, 1, 1, 5, 0, 3, 0, 1, 4, 4, 5, 0, 0, 0, 5, 0, 1, 5, 5, 1, 4, 0, 5, 0, 5, 1, 1, 1, 4, 5, 5, 5, 5, 5, 4, 5, 5, 3, 0, 5, 0, 4, 5, 0, 4, 5, 1, 5, 3, 0, 5, 0, 4, 4, 0, 1, 0, 0, 0, 5, 0, 5, 5, 0, 5, 4, 1, 0, 5, 0, 5, 1, 5, 5, 5, 5, 1, 5, 5, 5, 5, 0, 5, 4, 0, 5, 0, 5, 4, 4, 1, 1, 1, 0, 5, 4, 4, 4, 5, 5, 1, 4, 5, 5, 1, 5, 3, 5, 1, 5, 0, 0, 4, 5, 5, 5, 4, 5, 0, 4, 4, 5, 4, 3, 0, 4, 5, 4, 0, 0, 5, 5, 5, 5, 0, 4, 5, 5, 1, 5, 1, 5, 5, 0, 0, 5, 5, 0, 0, 1, 5, 4, 4, 0, 4, 0, 0, 1, 5, 5, 4, 5, 1, 0, 5, 0, 1, 0, 5, 0, 1, 5, 0, 0, 0, 5, 4, 5, 5, 0, 1, 3, 0, 4, 0, 5, 0, 4, 4, 5, 5, 4, 1, 3, 0, 5, 0, 0, 0, 0, 0, 4, 4, 1, 1, 1, 0, 0, 5, 5, 5, 5, 5, 4, 5, 5, 5, 0, 4, 5, 5, 0, 5, 5, 0, 0, 5, 1, 0, 3, 0, 0, 1, 0, 5, 5, 5, 1, 0, 0, 3, 4, 5, 4, 5, 3, 5, 0, 5, 5, 5, 1, 0, 5, 0, 0, 5, 0, 4, 4, 5, 3, 5, 1, 4, 5, 3, 4, 0, 1, 5, 4, 0, 1, 5, 1, 4, 3, 3, 4, 3, 1, 4, 0, 1, 4, 5, 4, 0, 5, 0, 5, 0, 1, 0, 4, 5, 0, 0, 0, 5, 0, 4, 5, 0, 0, 5, 5, 0, 5, 5, 3, 0, 4, 4, 0, 0, 0, 0, 4, 1, 3, 5, 5, 4, 0, 5, 0, 0, 5, 5, 5, 4, 0, 5, 5, 5, 5, 5, 5, 1, 5, 0, 5, 5, 5, 4, 4, 5, 5, 4, 1, 0, 4, 0, 4, 0, 1, 4, 5, 0, 0, 1, 4, 4, 4, 0, 1, 3, 4, 5, 5, 0, 5, 5, 0, 0, 4, 0, 5, 1, 4, 5, 0, 4, 4, 1, 5, 4, 5, 3, 0, 1, 5, 1, 0, 4]\n"
          ]
        }
      ]
    },
    {
      "cell_type": "markdown",
      "metadata": {
        "id": "E9MU0eLG4T60"
      },
      "source": [
        "#Evaluation"
      ]
    },
    {
      "cell_type": "markdown",
      "metadata": {
        "id": "7qDzKzbg4YkE"
      },
      "source": [
        "Precision • Recall • F1 score"
      ]
    },
    {
      "cell_type": "code",
      "execution_count": null,
      "metadata": {
        "id": "0jZUb7Oi4W1a"
      },
      "outputs": [],
      "source": [
        "def Precision_F1(Estimated_labels,GroundTruth_labels):\n",
        "    convolutionM = confusion_matrix(GroundTruth_labels,Estimated_labels)\n",
        "    plt.figure(figsize=(19,12))\n",
        "    sn.heatmap(convolutionM,annot=True)\n",
        "    plt.ylabel('Actual Labels')\n",
        "    plt.xlabel('Predicted Labels')\n",
        "    plt.show() # plot confusion matrix\n",
        "    Report=classification_report(GroundTruth_labels,Estimated_labels)\n",
        "    print(Report)"
      ]
    },
    {
      "cell_type": "markdown",
      "metadata": {
        "id": "NV8tXtBaDk3p"
      },
      "source": [
        "Calculate F-measure and precision and confusion matrix for melspectogram"
      ]
    },
    {
      "cell_type": "code",
      "execution_count": null,
      "metadata": {
        "colab": {
          "base_uri": "https://localhost:8080/",
          "height": 1000
        },
        "id": "5FLNWMa1DbRZ",
        "outputId": "5e614301-3bd5-4430-8a6b-742a11a99941"
      },
      "outputs": [
        {
          "output_type": "display_data",
          "data": {
            "text/plain": [
              "<Figure size 1900x1200 with 2 Axes>"
            ],
            "image/png": "[encoded data removed]"
          },
          "metadata": {}
        },
        {
          "output_type": "stream",
          "name": "stdout",
          "text": [
            "              precision    recall  f1-score   support\n",
            "\n",
            "           0       0.59      0.77      0.67       392\n",
            "           1       0.37      0.46      0.41       390\n",
            "           2       0.63      0.15      0.24       363\n",
            "           3       0.46      0.54      0.50       377\n",
            "           4       0.47      0.67      0.55       325\n",
            "           5       0.66      0.41      0.51       386\n",
            "\n",
            "    accuracy                           0.50      2233\n",
            "   macro avg       0.53      0.50      0.48      2233\n",
            "weighted avg       0.53      0.50      0.48      2233\n",
            "\n"
          ]
        }
      ],
      "source": [
        "Precision_F1(Label_predicted,y_test_num)"
      ]
    },
    {
      "cell_type": "markdown",
      "metadata": {
        "id": "Zt371aqmDsIq"
      },
      "source": [
        "Calculate F-measure and precision and confusion matrix for Time domain or Frequency domain"
      ]
    },
    {
      "cell_type": "code",
      "execution_count": null,
      "metadata": {
        "id": "X1oBMmXBDg4h",
        "colab": {
          "base_uri": "https://localhost:8080/"
        },
        "outputId": "674fb835-7ded-472b-8edb-533b1f098710"
      },
      "outputs": [
        {
          "output_type": "display_data",
          "data": {
            "text/plain": [
              "<Figure size 1900x1200 with 2 Axes>"
            ],
            "image/png": "[encoded data removed]"
          },
          "metadata": {}
        },
        {
          "output_type": "stream",
          "name": "stdout",
          "text": [
            "              precision    recall  f1-score   support\n",
            "\n",
            "           0       0.51      0.76      0.61       392\n",
            "           1       0.27      0.21      0.24       390\n",
            "           2       0.00      0.00      0.00       363\n",
            "           3       0.34      0.13      0.19       377\n",
            "           4       0.30      0.41      0.35       325\n",
            "           5       0.35      0.68      0.46       386\n",
            "\n",
            "    accuracy                           0.37      2233\n",
            "   macro avg       0.29      0.37      0.31      2233\n",
            "weighted avg       0.30      0.37      0.31      2233\n",
            "\n"
          ]
        },
        {
          "output_type": "stream",
          "name": "stderr",
          "text": [
            "/usr/local/lib/python3.10/dist-packages/sklearn/metrics/_classification.py:1344: UndefinedMetricWarning: Precision and F-score are ill-defined and being set to 0.0 in labels with no predicted samples. Use `zero_division` parameter to control this behavior.\n",
            "  _warn_prf(average, modifier, msg_start, len(result))\n",
            "/usr/local/lib/python3.10/dist-packages/sklearn/metrics/_classification.py:1344: UndefinedMetricWarning: Precision and F-score are ill-defined and being set to 0.0 in labels with no predicted samples. Use `zero_division` parameter to control this behavior.\n",
            "  _warn_prf(average, modifier, msg_start, len(result))\n",
            "/usr/local/lib/python3.10/dist-packages/sklearn/metrics/_classification.py:1344: UndefinedMetricWarning: Precision and F-score are ill-defined and being set to 0.0 in labels with no predicted samples. Use `zero_division` parameter to control this behavior.\n",
            "  _warn_prf(average, modifier, msg_start, len(result))\n"
          ]
        }
      ],
      "source": [
        "Precision_F1(Label_predicted,y_test_num)"
      ]
    }
  ],
  "metadata": {
    "colab": {
      "collapsed_sections": [
        "riX9FLH-kRDz",
        "oKjt2lH79qCu"
      ],
      "provenance": [],
      "include_colab_link": true
    },
    "kernelspec": {
      "display_name": "Python 3",
      "name": "python3"
    },
    "language_info": {
      "name": "python"
    }
  },
  "nbformat": 4,
  "nbformat_minor": 0
}